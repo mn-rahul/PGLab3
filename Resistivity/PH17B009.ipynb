{
 "cells": [
  {
   "cell_type": "code",
   "execution_count": 1,
   "metadata": {},
   "outputs": [],
   "source": [
    "import pandas as pd\n",
    "import numpy as np\n",
    "import matplotlib.pyplot as plt"
   ]
  },
  {
   "cell_type": "code",
   "execution_count": 2,
   "metadata": {},
   "outputs": [],
   "source": [
    "plt.rcParams[\"figure.figsize\"] = (8,8)"
   ]
  },
  {
   "cell_type": "code",
   "execution_count": 3,
   "metadata": {},
   "outputs": [],
   "source": [
    "data=pd.read_excel('PH17B009.xlsx')"
   ]
  },
  {
   "cell_type": "code",
   "execution_count": 4,
   "metadata": {},
   "outputs": [
    {
     "data": {
      "text/html": [
       "<div>\n",
       "<style scoped>\n",
       "    .dataframe tbody tr th:only-of-type {\n",
       "        vertical-align: middle;\n",
       "    }\n",
       "\n",
       "    .dataframe tbody tr th {\n",
       "        vertical-align: top;\n",
       "    }\n",
       "\n",
       "    .dataframe thead th {\n",
       "        text-align: right;\n",
       "    }\n",
       "</style>\n",
       "<table border=\"1\" class=\"dataframe\">\n",
       "  <thead>\n",
       "    <tr style=\"text-align: right;\">\n",
       "      <th></th>\n",
       "      <th>Temp</th>\n",
       "      <th>mV</th>\n",
       "      <th>Rho</th>\n",
       "      <th>Rho_c</th>\n",
       "      <th>1/T</th>\n",
       "      <th>log(rho_c)</th>\n",
       "    </tr>\n",
       "  </thead>\n",
       "  <tbody>\n",
       "    <tr>\n",
       "      <th>0</th>\n",
       "      <td>303.15</td>\n",
       "      <td>511</td>\n",
       "      <td>1.283632</td>\n",
       "      <td>0.230124</td>\n",
       "      <td>0.003299</td>\n",
       "      <td>-2.481658</td>\n",
       "    </tr>\n",
       "    <tr>\n",
       "      <th>1</th>\n",
       "      <td>308.15</td>\n",
       "      <td>493</td>\n",
       "      <td>1.238416</td>\n",
       "      <td>0.222018</td>\n",
       "      <td>0.003245</td>\n",
       "      <td>-2.488762</td>\n",
       "    </tr>\n",
       "    <tr>\n",
       "      <th>2</th>\n",
       "      <td>313.15</td>\n",
       "      <td>466</td>\n",
       "      <td>1.170592</td>\n",
       "      <td>0.209859</td>\n",
       "      <td>0.003193</td>\n",
       "      <td>-2.495752</td>\n",
       "    </tr>\n",
       "    <tr>\n",
       "      <th>3</th>\n",
       "      <td>318.15</td>\n",
       "      <td>433</td>\n",
       "      <td>1.087696</td>\n",
       "      <td>0.194997</td>\n",
       "      <td>0.003143</td>\n",
       "      <td>-2.502632</td>\n",
       "    </tr>\n",
       "    <tr>\n",
       "      <th>4</th>\n",
       "      <td>323.15</td>\n",
       "      <td>397</td>\n",
       "      <td>0.997264</td>\n",
       "      <td>0.178785</td>\n",
       "      <td>0.003095</td>\n",
       "      <td>-2.509404</td>\n",
       "    </tr>\n",
       "    <tr>\n",
       "      <th>5</th>\n",
       "      <td>328.15</td>\n",
       "      <td>359</td>\n",
       "      <td>0.901808</td>\n",
       "      <td>0.161672</td>\n",
       "      <td>0.003047</td>\n",
       "      <td>-2.516072</td>\n",
       "    </tr>\n",
       "    <tr>\n",
       "      <th>6</th>\n",
       "      <td>333.15</td>\n",
       "      <td>322</td>\n",
       "      <td>0.808864</td>\n",
       "      <td>0.145010</td>\n",
       "      <td>0.003002</td>\n",
       "      <td>-2.522640</td>\n",
       "    </tr>\n",
       "    <tr>\n",
       "      <th>7</th>\n",
       "      <td>338.15</td>\n",
       "      <td>286</td>\n",
       "      <td>0.718432</td>\n",
       "      <td>0.128797</td>\n",
       "      <td>0.002957</td>\n",
       "      <td>-2.529109</td>\n",
       "    </tr>\n",
       "    <tr>\n",
       "      <th>8</th>\n",
       "      <td>343.15</td>\n",
       "      <td>255</td>\n",
       "      <td>0.640560</td>\n",
       "      <td>0.114837</td>\n",
       "      <td>0.002914</td>\n",
       "      <td>-2.535484</td>\n",
       "    </tr>\n",
       "    <tr>\n",
       "      <th>9</th>\n",
       "      <td>348.15</td>\n",
       "      <td>225</td>\n",
       "      <td>0.565200</td>\n",
       "      <td>0.101327</td>\n",
       "      <td>0.002872</td>\n",
       "      <td>-2.541766</td>\n",
       "    </tr>\n",
       "    <tr>\n",
       "      <th>10</th>\n",
       "      <td>353.15</td>\n",
       "      <td>200</td>\n",
       "      <td>0.502400</td>\n",
       "      <td>0.090068</td>\n",
       "      <td>0.002832</td>\n",
       "      <td>-2.547959</td>\n",
       "    </tr>\n",
       "    <tr>\n",
       "      <th>11</th>\n",
       "      <td>358.15</td>\n",
       "      <td>177</td>\n",
       "      <td>0.444624</td>\n",
       "      <td>0.079710</td>\n",
       "      <td>0.002792</td>\n",
       "      <td>-2.554065</td>\n",
       "    </tr>\n",
       "    <tr>\n",
       "      <th>12</th>\n",
       "      <td>363.15</td>\n",
       "      <td>155</td>\n",
       "      <td>0.389360</td>\n",
       "      <td>0.069803</td>\n",
       "      <td>0.002754</td>\n",
       "      <td>-2.560086</td>\n",
       "    </tr>\n",
       "    <tr>\n",
       "      <th>13</th>\n",
       "      <td>368.15</td>\n",
       "      <td>136</td>\n",
       "      <td>0.341632</td>\n",
       "      <td>0.061246</td>\n",
       "      <td>0.002716</td>\n",
       "      <td>-2.566025</td>\n",
       "    </tr>\n",
       "    <tr>\n",
       "      <th>14</th>\n",
       "      <td>373.15</td>\n",
       "      <td>121</td>\n",
       "      <td>0.303952</td>\n",
       "      <td>0.054491</td>\n",
       "      <td>0.002680</td>\n",
       "      <td>-2.571883</td>\n",
       "    </tr>\n",
       "    <tr>\n",
       "      <th>15</th>\n",
       "      <td>378.15</td>\n",
       "      <td>106</td>\n",
       "      <td>0.266272</td>\n",
       "      <td>0.047736</td>\n",
       "      <td>0.002644</td>\n",
       "      <td>-2.577664</td>\n",
       "    </tr>\n",
       "    <tr>\n",
       "      <th>16</th>\n",
       "      <td>383.15</td>\n",
       "      <td>94</td>\n",
       "      <td>0.236128</td>\n",
       "      <td>0.042332</td>\n",
       "      <td>0.002610</td>\n",
       "      <td>-2.583369</td>\n",
       "    </tr>\n",
       "    <tr>\n",
       "      <th>17</th>\n",
       "      <td>388.15</td>\n",
       "      <td>83</td>\n",
       "      <td>0.208496</td>\n",
       "      <td>0.037378</td>\n",
       "      <td>0.002576</td>\n",
       "      <td>-2.589000</td>\n",
       "    </tr>\n",
       "    <tr>\n",
       "      <th>18</th>\n",
       "      <td>393.15</td>\n",
       "      <td>74</td>\n",
       "      <td>0.185888</td>\n",
       "      <td>0.033325</td>\n",
       "      <td>0.002544</td>\n",
       "      <td>-2.594558</td>\n",
       "    </tr>\n",
       "    <tr>\n",
       "      <th>19</th>\n",
       "      <td>398.15</td>\n",
       "      <td>66</td>\n",
       "      <td>0.165792</td>\n",
       "      <td>0.029722</td>\n",
       "      <td>0.002512</td>\n",
       "      <td>-2.600047</td>\n",
       "    </tr>\n",
       "    <tr>\n",
       "      <th>20</th>\n",
       "      <td>403.15</td>\n",
       "      <td>58</td>\n",
       "      <td>0.145696</td>\n",
       "      <td>0.026120</td>\n",
       "      <td>0.002480</td>\n",
       "      <td>-2.605467</td>\n",
       "    </tr>\n",
       "    <tr>\n",
       "      <th>21</th>\n",
       "      <td>408.15</td>\n",
       "      <td>52</td>\n",
       "      <td>0.130624</td>\n",
       "      <td>0.023418</td>\n",
       "      <td>0.002450</td>\n",
       "      <td>-2.610820</td>\n",
       "    </tr>\n",
       "    <tr>\n",
       "      <th>22</th>\n",
       "      <td>413.15</td>\n",
       "      <td>46</td>\n",
       "      <td>0.115552</td>\n",
       "      <td>0.020716</td>\n",
       "      <td>0.002420</td>\n",
       "      <td>-2.616108</td>\n",
       "    </tr>\n",
       "  </tbody>\n",
       "</table>\n",
       "</div>"
      ],
      "text/plain": [
       "      Temp   mV       Rho     Rho_c       1/T  log(rho_c)\n",
       "0   303.15  511  1.283632  0.230124  0.003299   -2.481658\n",
       "1   308.15  493  1.238416  0.222018  0.003245   -2.488762\n",
       "2   313.15  466  1.170592  0.209859  0.003193   -2.495752\n",
       "3   318.15  433  1.087696  0.194997  0.003143   -2.502632\n",
       "4   323.15  397  0.997264  0.178785  0.003095   -2.509404\n",
       "5   328.15  359  0.901808  0.161672  0.003047   -2.516072\n",
       "6   333.15  322  0.808864  0.145010  0.003002   -2.522640\n",
       "7   338.15  286  0.718432  0.128797  0.002957   -2.529109\n",
       "8   343.15  255  0.640560  0.114837  0.002914   -2.535484\n",
       "9   348.15  225  0.565200  0.101327  0.002872   -2.541766\n",
       "10  353.15  200  0.502400  0.090068  0.002832   -2.547959\n",
       "11  358.15  177  0.444624  0.079710  0.002792   -2.554065\n",
       "12  363.15  155  0.389360  0.069803  0.002754   -2.560086\n",
       "13  368.15  136  0.341632  0.061246  0.002716   -2.566025\n",
       "14  373.15  121  0.303952  0.054491  0.002680   -2.571883\n",
       "15  378.15  106  0.266272  0.047736  0.002644   -2.577664\n",
       "16  383.15   94  0.236128  0.042332  0.002610   -2.583369\n",
       "17  388.15   83  0.208496  0.037378  0.002576   -2.589000\n",
       "18  393.15   74  0.185888  0.033325  0.002544   -2.594558\n",
       "19  398.15   66  0.165792  0.029722  0.002512   -2.600047\n",
       "20  403.15   58  0.145696  0.026120  0.002480   -2.605467\n",
       "21  408.15   52  0.130624  0.023418  0.002450   -2.610820\n",
       "22  413.15   46  0.115552  0.020716  0.002420   -2.616108"
      ]
     },
     "execution_count": 4,
     "metadata": {},
     "output_type": "execute_result"
    }
   ],
   "source": [
    "data"
   ]
  },
  {
   "cell_type": "code",
   "execution_count": 5,
   "metadata": {},
   "outputs": [],
   "source": [
    "x=data['Temp']\n",
    "y=data['mV']"
   ]
  },
  {
   "cell_type": "code",
   "execution_count": 6,
   "metadata": {},
   "outputs": [
    {
     "data": {
      "text/plain": [
       "Text(0.5, 1.0, 'Temp vs Rho_c')"
      ]
     },
     "execution_count": 6,
     "metadata": {},
     "output_type": "execute_result"
    },
    {
     "data": {
      "image/png": "[encoded data removed]",
      "text/plain": [
       "<Figure size 576x576 with 1 Axes>"
      ]
     },
     "metadata": {
      "needs_background": "light"
     },
     "output_type": "display_data"
    }
   ],
   "source": [
    "plt.plot(data['Temp'],data['Rho_c'],'-')\n",
    "plt.title(\"Temp vs Rho_c\")"
   ]
  },
  {
   "cell_type": "code",
   "execution_count": 7,
   "metadata": {
    "scrolled": false
   },
   "outputs": [
    {
     "data": {
      "text/plain": [
       "Text(0.5, 1.0, '1/T vs Log(rho_c )')"
      ]
     },
     "execution_count": 7,
     "metadata": {},
     "output_type": "execute_result"
    },
    {
     "data": {
      "image/png": "[encoded data removed]",
      "text/plain": [
       "<Figure size 576x576 with 1 Axes>"
      ]
     },
     "metadata": {
      "needs_background": "light"
     },
     "output_type": "display_data"
    }
   ],
   "source": [
    "plt.plot(data['1/T'],data['log(rho_c)'],'o')\n",
    "plt.title(\"1/T vs Log(rho_c )\")"
   ]
  },
  {
   "cell_type": "markdown",
   "metadata": {},
   "source": [
    "fitting a line "
   ]
  },
  {
   "cell_type": "code",
   "execution_count": 8,
   "metadata": {},
   "outputs": [],
   "source": [
    "x_vals = data['1/T']\n",
    "y_vals = data['log(rho_c)']"
   ]
  },
  {
   "cell_type": "code",
   "execution_count": 9,
   "metadata": {},
   "outputs": [],
   "source": [
    "def obj(x,m,c):\n",
    "    return (m*x+c)"
   ]
  },
  {
   "cell_type": "code",
   "execution_count": 10,
   "metadata": {},
   "outputs": [],
   "source": [
    "from scipy.optimize import curve_fit"
   ]
  },
  {
   "cell_type": "code",
   "execution_count": 11,
   "metadata": {},
   "outputs": [],
   "source": [
    "popt,_ = curve_fit(obj,x_vals,y_vals)"
   ]
  },
  {
   "cell_type": "code",
   "execution_count": 12,
   "metadata": {},
   "outputs": [
    {
     "name": "stdout",
     "output_type": "stream",
     "text": [
      "log(rho_c) = 153.40202*(1/T) + -2.98424 \n"
     ]
    }
   ],
   "source": [
    "m,c=popt\n",
    "print(\"log(rho_c) = %.5f*(1/T) + %.5f \" %(m,c))"
   ]
  },
  {
   "cell_type": "code",
   "execution_count": 13,
   "metadata": {
    "scrolled": false
   },
   "outputs": [
    {
     "data": {
      "image/png": "[encoded data removed]",
      "text/plain": [
       "<Figure size 576x576 with 1 Axes>"
      ]
     },
     "metadata": {
      "needs_background": "light"
     },
     "output_type": "display_data"
    }
   ],
   "source": [
    "x= data['1/T']\n",
    "y=m*x+c\n",
    "plt.plot(x,y,'--',color='red',label= \"line fit\")\n",
    "plt.plot(data['1/T'],data['log(rho_c)'],'o',label=\"Given Data\") \n",
    "plt.title(\"log(rho_c) = 153.40202*(1/T) + -2.98424\")\n",
    "plt.legend(loc=\"upper left\")\n",
    "plt.show()"
   ]
  },
  {
   "cell_type": "markdown",
   "metadata": {},
   "source": [
    "$ E_{g} = slope * 2 * K_{b} $"
   ]
  },
  {
   "cell_type": "code",
   "execution_count": 14,
   "metadata": {
    "scrolled": true
   },
   "outputs": [
    {
     "name": "stdout",
     "output_type": "stream",
     "text": [
      "Value of Eg =  0.5287665390440575 eV\n"
     ]
    }
   ],
   "source": [
    "Eg = m * 2 *8.617333262*(2*10**-4)\n",
    "print(\"Value of Eg = \",Eg, \"eV\")"
   ]
  },
  {
   "cell_type": "markdown",
   "metadata": {},
   "source": [
    "# Eg = 0.5287665390440575 eV"
   ]
  },
  {
   "cell_type": "code",
   "execution_count": 15,
   "metadata": {},
   "outputs": [
    {
     "name": "stdout",
     "output_type": "stream",
     "text": [
      "0.05057809182622759\n"
     ]
    }
   ],
   "source": [
    "import math\n",
    "A = math.exp(c)\n",
    "print(A)"
   ]
  },
  {
   "cell_type": "markdown",
   "metadata": {},
   "source": [
    "Error in the fit is "
   ]
  },
  {
   "cell_type": "code",
   "execution_count": 16,
   "metadata": {},
   "outputs": [
    {
     "data": {
      "text/plain": [
       "2.841613091626016e-06"
      ]
     },
     "execution_count": 16,
     "metadata": {},
     "output_type": "execute_result"
    }
   ],
   "source": [
    "from sklearn.metrics import mean_squared_error\n",
    "mse= mean_squared_error(data['log(rho_c)'],y)\n",
    "mse "
   ]
  },
  {
   "cell_type": "markdown",
   "metadata": {},
   "source": [
    "# Error  = 2.841613091626016 e-04"
   ]
  },
  {
   "cell_type": "code",
   "execution_count": null,
   "metadata": {},
   "outputs": [],
   "source": []
  }
 ],
 "metadata": {
  "kernelspec": {
   "display_name": "Python 3",
   "language": "python",
   "name": "python3"
  },
  "language_info": {
   "codemirror_mode": {
    "name": "ipython",
    "version": 3
   },
   "file_extension": ".py",
   "mimetype": "text/x-python",
   "name": "python",
   "nbconvert_exporter": "python",
   "pygments_lexer": "ipython3",
   "version": "3.8.5"
  }
 },
 "nbformat": 4,
 "nbformat_minor": 4
}
